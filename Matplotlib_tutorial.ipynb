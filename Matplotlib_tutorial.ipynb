{
 "metadata": {
  "name": "",
  "signature": "sha256:2963d0f3879a741352a4375b96419c53d75b9705e777f54a06b7dc9ba0eea9e5"
 },
 "nbformat": 3,
 "nbformat_minor": 0,
 "worksheets": [
  {
   "cells": [
    {
     "cell_type": "markdown",
     "metadata": {},
     "source": [
      "# Welcome to the PyLadies Workshop on IPython Notebook and Matplotlib!\n",
      "## Presenters:  Mark Blunk and Gina Schmalzle\n",
      "\n",
      "This is part 2 of the workshop -- getting started with Matplotlib presented by Gina Schmalzle.\n",
      "In this part of the workshop we will learn how to make:\n",
      "1. Scatter Plots -- we will also learn how to change the attributes of the scatterplot.\n",
      "2. Histograms -- we will play around with how these look too.\n",
      "3. Maps!  We will also learn how to put data on maps too.\n",
      "\n",
      "At the end will be time to experiment with plotting yourself, play around with the code, ask questions or whatever!\n",
      "\n",
      "# The Data \n",
      "I thought it would be fun to work with real data instead of some randomly generated data.  The data we will use are modeled weather forecasts at weather stations across the United States.  This information is presented on the [OpenWeatherMap project](http://openweathermap.org/) who provides an API service to download this information, but unfortunately, does not keep a historical record of the forecasts.  Gina and her friend David Branner created a [database](https://github.com/WeatherStudy/weather_study) that collects the weather forecasts for these stations.  The file target_day_20140422.dat that came in this repo was extracted from this database collecting the forecasts.  It is a flat file of weather forecasts for each station in the United States for the 'target day' of April 22, 2014. The stations themselves are defined by their latitude and longitude and the file contains forecasts that were done 0 to 7 days out, where day zero is the forecast made on April 22.  Hence a forecast made one day out was made on April 21, two days out April 20th, etc. \n",
      "\n",
      "# Getting to the Basics -- Data Structures\n",
      "A basic understanding of data structures is useful when playing with an visualizing data, so we will go over some data structures that will be used in this notebook.  In computer science, a data structure is a way to organize data in a computer that makes it computationally efficient.  Here we will be using two basic data structures:  *lists* and *dictionaries*.  \n",
      "\n",
      "### Lists \n",
      "Lists represent a sequence of values.  In python a list is designated with square brackets [].  The following are examples of lists."
     ]
    },
    {
     "cell_type": "code",
     "collapsed": false,
     "input": [
      "a = []\n",
      "b = ['a', 'b', 'c']\n",
      "c = [4,1,6,9,2,10]\n",
      "d = [[1,2,3],['a','n','q']]"
     ],
     "language": "python",
     "metadata": {},
     "outputs": []
    },
    {
     "cell_type": "markdown",
     "metadata": {},
     "source": [
      "The items in these lists are called elements.  You can figure out how many elements are in these lists by asking for its length:"
     ]
    },
    {
     "cell_type": "code",
     "collapsed": false,
     "input": [
      "print (len(d))"
     ],
     "language": "python",
     "metadata": {},
     "outputs": []
    },
    {
     "cell_type": "markdown",
     "metadata": {},
     "source": [
      "How many elements does d have? Make a guess, then change the cell above to find out. \n",
      "\n",
      "The example d above has a list as an element.  This is called a list of lists.  \n",
      "\n",
      "So how do you retrieve an element of a list? Each element is assigned a number, starting at 0, that represents where it sits in the list.  For example, element 0 of b is 'a'.  It can be retrieved like this:"
     ]
    },
    {
     "cell_type": "code",
     "collapsed": false,
     "input": [
      "b[0]"
     ],
     "language": "python",
     "metadata": {},
     "outputs": []
    },
    {
     "cell_type": "markdown",
     "metadata": {},
     "source": [
      "What is c[4]?  How about d[2]?  \n",
      "\n",
      "Great things about lists are that they are very simple to understand, and they take up relatively little amounts of memory. However they do have some limitations.  Say if you have a long list of values, but you wanted to see if a certain value is in the list.  You potentially would have to read through all the items in the list in order to see if it is in there.  Hence, it can be computationally slow.  \n",
      "\n",
      "### Dictionaries\n",
      "\n",
      "Also known as associative arrays, maps, symbol tables, or hash tables, this data structure is really computationally fast, but uses lots of memory.  A dictionary consists of key-value pairs, where the keys are all unique and refer to a specific value.  Values among the keys can be identical, however.  Dictionaries are designated with curly brackets {}.  Here are examples of dictionaries:"
     ]
    },
    {
     "cell_type": "code",
     "collapsed": false,
     "input": [
      "dict_a = {}\n",
      "dict_b = {'Hello beautiful': 'Ew, Gross', 'Goodbye Gorgeous':'Finally'}\n",
      "dict_c = {'Bad Pickup Lines': {'example 1': 'Did it hurt when you fell from heaven?',\n",
      "                               'example 2': 'Do you alway wear your shoes over your socks?'\n",
      "                              }}"
     ],
     "language": "python",
     "metadata": {},
     "outputs": []
    },
    {
     "cell_type": "markdown",
     "metadata": {},
     "source": [
      "Each of these listed above are dictionaries.  The items to the left of the colon are the 'keys', and the items to the right are values.  If you want to list the keys you can type:"
     ]
    },
    {
     "cell_type": "code",
     "collapsed": false,
     "input": [
      "dict_b.keys()"
     ],
     "language": "python",
     "metadata": {},
     "outputs": []
    },
    {
     "cell_type": "markdown",
     "metadata": {},
     "source": [
      "And you can retrieve their values by typing:"
     ]
    },
    {
     "cell_type": "code",
     "collapsed": false,
     "input": [
      "dict_b['Goodbye Gorgeous']"
     ],
     "language": "python",
     "metadata": {},
     "outputs": []
    },
    {
     "cell_type": "markdown",
     "metadata": {},
     "source": [
      "dict_c is a dictionary of dictionaries.  How would you get the value for 'example 2'? Try in the next cell. "
     ]
    },
    {
     "cell_type": "code",
     "collapsed": false,
     "input": [],
     "language": "python",
     "metadata": {},
     "outputs": []
    },
    {
     "cell_type": "markdown",
     "metadata": {},
     "source": [
      "The great thing about dictionaries is that we can have a lot of data, but if we know the key, we can very quickly get the associated values.\n",
      "\n",
      "OK - now let's put what we've learned to good use and start our Matplotlib adventure!\n",
      "\n",
      "# Retrieving the data "
     ]
    },
    {
     "cell_type": "markdown",
     "metadata": {},
     "source": [
      "Let's Read in the data.  These 'data' are actually weather forecasts (modeled) for individual weather stations across the United States. The file that will be read contains the forecast for one day (April 22, 2014) for 0 to 7 days out, where the 0th day is the forecast on April 22nd.    "
     ]
    },
    {
     "cell_type": "code",
     "collapsed": false,
     "input": [
      "# Read file\n",
      "filename='target_day_20140422.dat'\n",
      "f = open(filename, 'r')\n",
      "contents = f.readlines()"
     ],
     "language": "python",
     "metadata": {},
     "outputs": []
    },
    {
     "cell_type": "code",
     "collapsed": false,
     "input": [
      "contents"
     ],
     "language": "python",
     "metadata": {},
     "outputs": []
    },
    {
     "cell_type": "markdown",
     "metadata": {},
     "source": [
      "Let's make a dictionary of values, where lat, long are the keys.  The values are also dictionaries, where the number of days out are the keys, and MaxT and MinT are the values."
     ]
    },
    {
     "cell_type": "code",
     "collapsed": false,
     "input": [
      "forecast_dict = {}\n",
      "for line in range(1, len(contents)):\n",
      "    line_split = contents[line].split(' ')\n",
      "    try:\n",
      "        forecast_dict[line_split[0], line_split[1]][line_split[2]] = {'MaxT':float(line_split[3]),\n",
      "                                                                      'MinT':float(line_split[4][:-1])}\n",
      "    except:\n",
      "        forecast_dict[line_split[0], line_split[1]] = {}\n",
      "        forecast_dict[line_split[0], line_split[1]][line_split[2]] = {'MaxT':float(line_split[3]),\n",
      "                                                                      'MinT':float(line_split[4][:-1])}"
     ],
     "language": "python",
     "metadata": {},
     "outputs": []
    },
    {
     "cell_type": "code",
     "collapsed": false,
     "input": [
      "forecast_dict"
     ],
     "language": "python",
     "metadata": {},
     "outputs": []
    },
    {
     "cell_type": "markdown",
     "metadata": {},
     "source": [
      "### Why did we need to put these values into a somewhat complicated data structure?\n",
      "It will make it easier to retrieve the value for a specific forecasted day out. \n",
      "\n",
      "Also note that you could use other data structures with this -- your could use lists, or maybe use a dataframe (from the pandas module), the point is to try computationally to make different aspects of the data easily accessible.\n",
      "\n",
      "Let's take a look at some things here.  Keys are all for an individual weather stations, defined by their location:"
     ]
    },
    {
     "cell_type": "code",
     "collapsed": false,
     "input": [
      "forecast_dict.keys()"
     ],
     "language": "python",
     "metadata": {},
     "outputs": []
    },
    {
     "cell_type": "markdown",
     "metadata": {},
     "source": [
      "Let's pick a random station, and see what its values are:"
     ]
    },
    {
     "cell_type": "code",
     "collapsed": false,
     "input": [
      "forecast_dict[('40.51218', '-111.47435')]"
     ],
     "language": "python",
     "metadata": {},
     "outputs": []
    },
    {
     "cell_type": "markdown",
     "metadata": {},
     "source": [
      "The output above shows the forecasted Max T and Min T values for 0-7 days out for a specific station at Latitude 40.51218N, Longitude -111.47435E."
     ]
    },
    {
     "cell_type": "markdown",
     "metadata": {},
     "source": [
      "# Prepare our data for Plotting  \n",
      "The plot will be Max T vs. day out for this one station.  It will be a simple plot, but first, we need to make some lists that matplotlib can use to do the plotting.  We will need a list of days, and a list of corresponding Max T values."
     ]
    },
    {
     "cell_type": "code",
     "collapsed": false,
     "input": [
      "# First retrieve the days \n",
      "day_keys  = forecast_dict[('40.51218', '-111.47435')].keys()\n",
      "print (day_keys)"
     ],
     "language": "python",
     "metadata": {},
     "outputs": []
    },
    {
     "cell_type": "markdown",
     "metadata": {},
     "source": [
      "Dictionaries don't necessarily sort alphabetically or numerically.  \n",
      "For fun, now that we have a list of keys, let's sort them."
     ]
    },
    {
     "cell_type": "code",
     "collapsed": false,
     "input": [
      "day_keys.sort()"
     ],
     "language": "python",
     "metadata": {},
     "outputs": []
    },
    {
     "cell_type": "markdown",
     "metadata": {},
     "source": [
      "Matplotlib plots lists of one thing against another.  So, let's make our lists.\n",
      "First define our lists"
     ]
    },
    {
     "cell_type": "code",
     "collapsed": false,
     "input": [
      "# First define the variables as lists\n",
      "day_list = []; maxt_list = []\n",
      "\n",
      "# Then populate the lists\n",
      "for day_key in day_keys:\n",
      "    day_list.append(float(day_key))\n",
      "    maxt_list.append(float(forecast_dict[('40.51218', '-111.47435')][day_key]['MaxT']))\n",
      "\n",
      "# Now the element in one list corresponds with an element in the other list, for a given \n",
      "# element number.  For example day_list[0] corresponds to maxt_list[0]\n",
      "print (day_list)\n",
      "print (maxt_list)"
     ],
     "language": "python",
     "metadata": {},
     "outputs": []
    },
    {
     "cell_type": "markdown",
     "metadata": {},
     "source": [
      "# Time to Plot!  General Scatter Plots\n",
      "First let's import everything we will need."
     ]
    },
    {
     "cell_type": "code",
     "collapsed": false,
     "input": [
      "%matplotlib inline\n",
      "import matplotlib as mpl\n",
      "import matplotlib.pyplot as plt\n",
      "from mpl_toolkits.basemap import Basemap\n",
      "import numpy as np"
     ],
     "language": "python",
     "metadata": {},
     "outputs": []
    },
    {
     "cell_type": "markdown",
     "metadata": {},
     "source": [
      "We also want to modify some of the default values for plotting.  The default parameters are found in Matplotlib's RC file.  The values are collected into a dictionary that you can access by typing:"
     ]
    },
    {
     "cell_type": "code",
     "collapsed": false,
     "input": [
      "mpl.rcParams.keys()"
     ],
     "language": "python",
     "metadata": {},
     "outputs": []
    },
    {
     "cell_type": "markdown",
     "metadata": {},
     "source": [
      "And you can see the value using the keys.  For example, if you want the resolution of your figure you would type:"
     ]
    },
    {
     "cell_type": "code",
     "collapsed": false,
     "input": [
      "mpl.rcParams[u'figure.dpi']"
     ],
     "language": "python",
     "metadata": {},
     "outputs": []
    },
    {
     "cell_type": "markdown",
     "metadata": {},
     "source": [
      "So let's ensure that our plots have good resolution and are fairly sizeable:"
     ]
    },
    {
     "cell_type": "code",
     "collapsed": false,
     "input": [
      "mpl.rcParams[u'figure.figsize'] = [12, 8]\n",
      "mpl.rcParams[u'figure.dpi'] = 300"
     ],
     "language": "python",
     "metadata": {},
     "outputs": []
    },
    {
     "cell_type": "markdown",
     "metadata": {},
     "source": [
      "Now let's make our first scatter plot!"
     ]
    },
    {
     "cell_type": "code",
     "collapsed": false,
     "input": [
      "plt.scatter(day_list, maxt_list)\n",
      "# Add a line:\n",
      "# plt.plot(day_list, maxt_list)"
     ],
     "language": "python",
     "metadata": {},
     "outputs": []
    },
    {
     "cell_type": "markdown",
     "metadata": {},
     "source": [
      "Now let's jazz is up a bit -- \n",
      "Let's Make the lines red and dashed and change the size of the circles, change them to stars and make them green"
     ]
    },
    {
     "cell_type": "code",
     "collapsed": false,
     "input": [
      "plt.plot(day_list, maxt_list, '.r--')\n",
      "plt.scatter(day_list, maxt_list, s = 400, color='green', marker='*')\n",
      "plt.show()"
     ],
     "language": "python",
     "metadata": {},
     "outputs": []
    },
    {
     "cell_type": "markdown",
     "metadata": {},
     "source": [
      "Labels, labels, labels!  How is one to know what you just plotted?  Let's add the axes labels and the title"
     ]
    },
    {
     "cell_type": "code",
     "collapsed": false,
     "input": [
      "plt.plot(day_list, maxt_list, '.r--')\n",
      "plt.scatter(day_list, maxt_list, s = 400, color='green', marker='*')\n",
      "plt.ylabel ('Forecasted Max Temperature, Deg F')\n",
      "plt.xlabel ('Days from Target day April 22, 2014')\n",
      "plt.title ('Forecasted Max Temperature')\n",
      "plt.show()"
     ],
     "language": "python",
     "metadata": {},
     "outputs": []
    },
    {
     "cell_type": "markdown",
     "metadata": {},
     "source": [
      "More marker fun can be found [here](http://matplotlib.org/api/markers_api.html).  More line fun can be found [here](http://matplotlib.org/api/pyplot_api.html#matplotlib.pyplot.plot)."
     ]
    },
    {
     "cell_type": "markdown",
     "metadata": {},
     "source": [
      "Getting the idea?\n",
      "\n",
      "Let's do another plot.  Let's look at all of the Max Temperature forecasts 2 days out, and plot them with respect to Latitude.  We will need to pick out from forecast_dict all the Max T values for all of the weather stations made 2 days before April 22, 2014.  First, we will need to get all the Latitudes and Longitudes for each site, then we will need to pick out all the Max T values for each of the stations for that day.  \n",
      "\n",
      "We will keep in mind that maybe in the future you might want to look at Min T, or a different day."
     ]
    },
    {
     "cell_type": "code",
     "collapsed": false,
     "input": [
      "# Get keys of forecast_dict (lats and longs):\n",
      "keys = forecast_dict.keys()\n",
      "# Circle through all the keys to get the values for the 2nd day maximum temperature and the\n",
      "# corresponding Lat and Longs\n",
      "day_out = '2'       # 0-7\n",
      "temp = 'MaxT'  # MaxT or MinT\n",
      "temperature = []; lat = []; lon = []\n",
      "for key in keys:\n",
      "    temperature.append(float(forecast_dict[key][day_out][temp]))\n",
      "    lat.append(float(key[0]))\n",
      "    lon.append(float(key[1]))\n",
      "# Now that those are collected, let's see what the Temperature as a function of Latitude is:\n",
      "plt.scatter(temperature,lat)\n"
     ],
     "language": "python",
     "metadata": {},
     "outputs": []
    },
    {
     "cell_type": "markdown",
     "metadata": {},
     "source": [
      "# Coloring Points in a Scatter Plot\n",
      "Let's try again, but this time, color according to Longitude.  Again, let's keep in mind we may want to color by something else.  You can try playing with these later."
     ]
    },
    {
     "cell_type": "code",
     "collapsed": false,
     "input": [
      "color_by = lon\n",
      "label = 'Long'  # Need to rename if 'color_by' is changed\n",
      "max_color_by = max(color_by)\n",
      "min_color_by = min(color_by)\n",
      "\n",
      "fig, ax = plt.subplots()\n",
      "s = ax.scatter(temperature, lat,   \n",
      "               c=color_by, \n",
      "               s=200, \n",
      "               marker='o',                   # Plot circles\n",
      "              # alpha = 0.2,\n",
      "               cmap = plt.cm.coolwarm,       # Color pallete\n",
      "               vmin = min_color_by,          # Min value  \n",
      "               vmax = max_color_by)          # Max value\n",
      "\n",
      "cbar = plt.colorbar(mappable = s, ax = ax)   # Mappable 'maps' the values of s to an array of RGB colors defined by a color palette\n",
      "cbar.set_label(label)\n",
      "plt.xlabel('{0} in Deg F, forecasted {1} days out'.format(temp,day_out))\n",
      "plt.ylabel('Latitude, Deg N')\n",
      "plt.title('{0} forecasted {1} Days out from target day April 22, 2014'.format(temp,day_out))\n",
      "plt.show()"
     ],
     "language": "python",
     "metadata": {},
     "outputs": []
    },
    {
     "cell_type": "markdown",
     "metadata": {},
     "source": [
      "Color map stuff can be found here: http://matplotlib.org/users/colormaps.html\n",
      "\n",
      "# Histograms!\n",
      "Let's take a step back and work on a histogram.\n",
      "What we are going to plot is the distribution of forecasted temperatures.\n",
      "Let's start with a very simple histogram of the temperature we left off with -- "
     ]
    },
    {
     "cell_type": "code",
     "collapsed": true,
     "input": [
      "plt.hist(temperature)\n",
      "plt.ylabel ('Counts')\n",
      "plt.xlabel(temp)\n",
      "plt.show()"
     ],
     "language": "python",
     "metadata": {},
     "outputs": []
    },
    {
     "cell_type": "markdown",
     "metadata": {},
     "source": [
      "Now let's try again and jazz it up..\n",
      "Let's increase the number of bins (bin size calculated by the difference Min and Max values, divided by the number of bins). Let's also change the color of the bars and make them a little translucent."
     ]
    },
    {
     "cell_type": "code",
     "collapsed": false,
     "input": [
      "plt.hist(temperature, 100, color='green', alpha=0.2)\n",
      "plt.ylabel ('Counts')\n",
      "plt.xlabel(temp)\n",
      "plt.title('Histogram of {0}'.format(temp))\n",
      "plt.show()"
     ],
     "language": "python",
     "metadata": {},
     "outputs": []
    },
    {
     "cell_type": "markdown",
     "metadata": {},
     "source": [
      "Python histograms give you some information about them.  Let's explore."
     ]
    },
    {
     "cell_type": "code",
     "collapsed": false,
     "input": [
      "n, bins, patches = plt.hist(temperature, 10, color='green', alpha=0.2)"
     ],
     "language": "python",
     "metadata": {},
     "outputs": []
    },
    {
     "cell_type": "code",
     "collapsed": false,
     "input": [
      "# n are the number of counts\n",
      "n"
     ],
     "language": "python",
     "metadata": {},
     "outputs": []
    },
    {
     "cell_type": "code",
     "collapsed": false,
     "input": [
      "# bins are the x-centered location of the bins\n",
      "bins"
     ],
     "language": "python",
     "metadata": {},
     "outputs": []
    },
    {
     "cell_type": "code",
     "collapsed": false,
     "input": [
      "# And patches are a list of the matplotlib rectangle shapes that make \n",
      "# the bins.\n",
      "patches"
     ],
     "language": "python",
     "metadata": {},
     "outputs": []
    },
    {
     "cell_type": "code",
     "collapsed": false,
     "input": [
      "patches[0]"
     ],
     "language": "python",
     "metadata": {},
     "outputs": []
    },
    {
     "cell_type": "markdown",
     "metadata": {},
     "source": [
      "# Mapping\n",
      "Now that we have the basics down, let's start with the mapping!\n",
      "We will be using Matplotlib's basemap:  http://matplotlib.org/basemap/.  Basemap was imported in the second cell of this notebook.\n",
      "\n",
      "Let's make a simple Mercator Projection Map.  The code in the next cell is straight from the Basemap example section -- http://matplotlib.org/basemap/users/merc.html\n",
      "\n",
      "llcrnrlat,llcrnrlon,urcrnrlat,urcrnrlon are the lat/lon values of the lower left and upper right corners of the map.\n",
      "lat_ts is the latitude of true scale.\n",
      "resolution = 'c' means use crude resolution coastlines."
     ]
    },
    {
     "cell_type": "code",
     "collapsed": false,
     "input": [
      "# Define the projection, scale, the corners of the map, and the resolution.\n",
      "m = Basemap(projection='merc',llcrnrlat=-80,urcrnrlat=80,\\\n",
      "            llcrnrlon=-180,urcrnrlon=180,lat_ts=20,resolution='c')\n",
      "# Draw the coastlines\n",
      "m.drawcoastlines()\n",
      "# Color the continents\n",
      "m.fillcontinents(color='coral',lake_color='aqua')\n",
      "# draw parallels and meridians.\n",
      "m.drawparallels(np.arange(-90.,91.,30.))\n",
      "m.drawmeridians(np.arange(-180.,181.,60.))\n",
      "# fill in the oceans \n",
      "m.drawmapboundary(fill_color='aqua')\n",
      "plt.title(\"Mercator Projection\")\n",
      "plt.show()"
     ],
     "language": "python",
     "metadata": {},
     "outputs": []
    },
    {
     "cell_type": "markdown",
     "metadata": {},
     "source": [
      "Now let's change this map to do what we need.  Let's\n",
      "1. Change the area to the continental United States\n",
      "2. Increase the resolution to intermediate ('i')\n",
      "3. Remove the horrific ocean/land colors provided above"
     ]
    },
    {
     "cell_type": "code",
     "collapsed": false,
     "input": [
      "m = Basemap(projection='merc',llcrnrlat=20,urcrnrlat=50,\\\n",
      "            llcrnrlon=-130,urcrnrlon=-60,lat_ts=20,resolution='i')\n",
      "m.drawcoastlines()\n",
      "m.drawcountries()\n",
      "#m.drawstates()\n",
      "# draw parallels and meridians.\n",
      "parallels = np.arange(-90.,91.,5.)\n",
      "# Label the meridians and parallels\n",
      "m.drawparallels(parallels,labels=[False,True,True,False])\n",
      "# Draw Meridians and Labels\n",
      "meridians = np.arange(-180.,181.,10.)\n",
      "m.drawmeridians(meridians,labels=[True,False,False,True])\n",
      "m.drawmapboundary(fill_color='white')\n",
      "plt.title(\"Forecast {0} days out\".format(day_out))\n",
      "plt.show()"
     ],
     "language": "python",
     "metadata": {},
     "outputs": []
    },
    {
     "cell_type": "markdown",
     "metadata": {},
     "source": [
      "Now let's try adding our data!  Let's just plot their locations first..."
     ]
    },
    {
     "cell_type": "code",
     "collapsed": false,
     "input": [
      "m = Basemap(projection='merc',llcrnrlat=20,urcrnrlat=50,\\\n",
      "            llcrnrlon=-130,urcrnrlon=-60,lat_ts=20,resolution='i')\n",
      "m.drawcoastlines()\n",
      "m.drawcountries()\n",
      "# draw parallels and meridians.\n",
      "parallels = np.arange(-90.,91.,5.)\n",
      "# Label the meridians and parallels\n",
      "m.drawparallels(parallels,labels=[False,True,True,False])\n",
      "# Draw Meridians and Labels\n",
      "meridians = np.arange(-180.,181.,10.)\n",
      "m.drawmeridians(meridians,labels=[True,False,False,True])\n",
      "m.drawmapboundary(fill_color='white')\n",
      "plt.title(\"Forecast {0} days out\".format(day_out))\n",
      "x,y = m(lon, lat)\n",
      "m.plot(x,y, 'bo', markersize=5)\n",
      "plt.show()"
     ],
     "language": "python",
     "metadata": {},
     "outputs": []
    },
    {
     "cell_type": "markdown",
     "metadata": {},
     "source": [
      "Now let's color the stations by their forecasted temperature (Max T) and add a colorbar\n"
     ]
    },
    {
     "cell_type": "code",
     "collapsed": false,
     "input": [
      "m = Basemap(projection='merc',llcrnrlat=20,urcrnrlat=50,\\\n",
      "            llcrnrlon=-130,urcrnrlon=-60,lat_ts=20,resolution='i')\n",
      "m.drawcoastlines()\n",
      "m.drawcountries()\n",
      "# draw parallels and meridians.\n",
      "parallels = np.arange(-90.,91.,5.)\n",
      "# Label the meridians and parallels\n",
      "m.drawparallels(parallels,labels=[True,False,False,False])\n",
      "# Draw Meridians and Labels\n",
      "meridians = np.arange(-180.,181.,10.)\n",
      "m.drawmeridians(meridians,labels=[True,False,False,True])\n",
      "m.drawmapboundary(fill_color='white')\n",
      "plt.title(\"Forecast {0} days out\".format(day_out))\n",
      "x,y = m(lon, lat)\n",
      "jet = plt.cm.get_cmap('jet')\n",
      "sc = plt.scatter(x,y, c=temperature, vmin=0, vmax =35, cmap=jet, s=20, edgecolors='none')\n",
      "cbar = plt.colorbar(sc, shrink = .5)\n",
      "cbar.set_label(temp)\n",
      "plt.show()"
     ],
     "language": "python",
     "metadata": {},
     "outputs": []
    },
    {
     "cell_type": "markdown",
     "metadata": {},
     "source": [
      "Well, that concludes what we are going over today.  Here are a few exercises you can try:\n",
      "\n",
      "1. In the first graph -- include the weather forecast through time for multiple stations.  Color each set of lines differently for each weather station.  Also color the points differently for each\n",
      " \n",
      "2. In the second graph -- Try creating a figure with subplots and show the forecasted Max Temperature and forecasted Mon Temperature as a function of Latitude side by side.\n",
      "\n",
      "3. In the histogram -- Try overlaying a histogram with of the distribution of Max T values for day 2 with the distribution of Min T values for the same day.\n",
      "\n",
      "4. For the map -- Create a figure with multiple maps, where each map shows the forecasted distribution of temperature for each day out.  Change the resolution.  Change the location of labels.\n",
      "\n",
      "5. What is the difference of the temperature forecast made April 22, 2014 with the previous forecast days? Can you map the differences?  \n",
      "\n",
      "Thanks for joining us today!  Hope you had fun :-)."
     ]
    }
   ],
   "metadata": {}
  }
 ]
}