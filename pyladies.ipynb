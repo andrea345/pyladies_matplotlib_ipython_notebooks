{
 "metadata": {
  "name": "",
  "signature": "sha256:8f491ef7818f0e5b5dbac18d87bc3605560a8ae31e27aa3029b934008bb87863"
 },
 "nbformat": 3,
 "nbformat_minor": 0,
 "worksheets": [
  {
   "cells": [
    {
     "cell_type": "code",
     "collapsed": false,
     "input": [
      "from mpl_toolkits.basemap import Basemap\n",
      "import numpy as np\n",
      "import matplotlib.pyplot as plt"
     ],
     "language": "python",
     "metadata": {},
     "outputs": []
    },
    {
     "cell_type": "code",
     "collapsed": false,
     "input": [
      "# Read file\n",
      "filename='target_day_20140422.dat'\n",
      "f = open(filename, 'r')\n",
      "contents = f.readlines()"
     ],
     "language": "python",
     "metadata": {},
     "outputs": []
    },
    {
     "cell_type": "code",
     "collapsed": false,
     "input": [
      "contents"
     ],
     "language": "python",
     "metadata": {},
     "outputs": []
    },
    {
     "cell_type": "code",
     "collapsed": false,
     "input": [
      "# Let's make a dictionary of values, where lat, long and  Number of days out provide the keys, \n",
      "# The MaxT and MinT are the values.\n",
      "forecast_dict = {}\n",
      "for line in range(1, len(contents)):\n",
      "    line_split = contents[line].split(' ')\n",
      "    try:\n",
      "        forecast_dict[line_split[0], line_split[1]][line_split[2]] = {'MaxT':float(line_split[3]),\n",
      "                                                                      'MinT':float(line_split[4][:-1])}\n",
      "    except:\n",
      "        forecast_dict[line_split[0], line_split[1]] = {}\n",
      "        forecast_dict[line_split[0], line_split[1]][line_split[2]] = {'MaxT':float(line_split[3]),\n",
      "                                                                      'MinT':float(line_split[4][:-1])}"
     ],
     "language": "python",
     "metadata": {},
     "outputs": []
    },
    {
     "cell_type": "code",
     "collapsed": false,
     "input": [
      "forecast_dict"
     ],
     "language": "python",
     "metadata": {},
     "outputs": []
    },
    {
     "cell_type": "code",
     "collapsed": false,
     "input": [
      "#  So Why did we need to put these values into a somewhat complicated data structure?\n",
      "#  It will make it easier to retrieve the value for a specific forecasted day out. \n",
      "\n",
      "#  Also note that you could use other data structures with this -- your could use lists, or \n",
      "#  maybe use a dataframe (from the pandas module), the point is to try computationally to make\n",
      "#  different aspects of the data easily accessible.\n",
      "\n",
      "# Let's take a look at some things here:\n",
      "forecast_dict.keys()"
     ],
     "language": "python",
     "metadata": {},
     "outputs": []
    },
    {
     "cell_type": "code",
     "collapsed": false,
     "input": [
      "# Keys are all for an individual weather stations, defined by their location.  Let's pick a random station, and see what its\n",
      "# values are:\n",
      "forecast_dict[('40.51218', '-111.47435')]"
     ],
     "language": "python",
     "metadata": {},
     "outputs": []
    },
    {
     "cell_type": "code",
     "collapsed": false,
     "input": [
      "# The output above shows the forecasted Max T and Min T values for 0-7 days out.\n",
      "\n",
      "# now for our first plot -- a simple scatterplot that shows the change in Max T over time \n",
      "# for this randomly picked station.\n",
      "# We will need a list of days, and a list of corresponding Max T values.\n",
      "day_keys  = forecast_dict[('40.51218', '-111.47435')].keys()\n",
      "\n",
      "# Dictionaries don't necessarily sort alphabetically or numerically.  \n",
      "# For fun, now that we have a list of keys, let's sort them.\n",
      "day_keys.sort()\n",
      "\n",
      "# Matplotlib plots lists of one thing against another.  So, let's make our lists.\n",
      "# First define our lists\n",
      "day_list = []; maxt_list = []\n",
      "\n",
      "# Then populate the lists\n",
      "for day_key in day_keys:\n",
      "    day_list.append(float(day_key))\n",
      "    maxt_list.append(float(forecast_dict[('40.51218', '-111.47435')][day_key]['MaxT']))\n",
      "\n",
      "# Now the element in one list corresponds with an element in the other list, for a given \n",
      "# element number.  For example day_list[0] corresponds to maxt_list[0]\n",
      "print (day_list)\n",
      "print (maxt_list)"
     ],
     "language": "python",
     "metadata": {},
     "outputs": []
    },
    {
     "cell_type": "code",
     "collapsed": false,
     "input": [
      "#  Time to Plot!"
     ],
     "language": "python",
     "metadata": {},
     "outputs": []
    },
    {
     "cell_type": "code",
     "collapsed": false,
     "input": [
      "# General scatter plot\n",
      "# plt.scatter(day_list, maxt_list)\n",
      "# Add a line:\n",
      "# plt.plot(day_list, maxt_list)\n",
      "\n",
      "# Now let's jazz is up a bit\n",
      "# Make the lines red and dashed\n",
      "plt.plot(day_list, maxt_list, '.r--')\n",
      "# Let's change the size of the circles, change them to stars and make them green\n",
      "plt.scatter(day_list, maxt_list, s = 400, color='green', marker='*')\n",
      "\n",
      "\n",
      "# More marker fun can be found here:\n",
      "# http://matplotlib.org/api/markers_api.html\n",
      "# More line fun can be found here:\n",
      "# http://matplotlib.org/api/pyplot_api.html#matplotlib.pyplot.plot\n",
      "\n",
      "# and add some axis titles\n",
      "plt.ylabel ('Forecasted Max Temperature, Deg F')\n",
      "plt.xlabel ('Days from Target day April 22, 2014')\n",
      "plt.title ('Forecasted Max Temperature')\n",
      "plt.show()"
     ],
     "language": "python",
     "metadata": {},
     "outputs": []
    },
    {
     "cell_type": "code",
     "collapsed": false,
     "input": [
      "# Getting the idea?\n",
      "# Now, let's pick out all the values for the forecasts made 7 days before:\n",
      "# Get keys:\n",
      "keys = forecast_dict.keys()\n",
      "# Circle through all the keys to get the values for the 7th day maximum temperature and the\n",
      "# corresponding Lat and Longs\n",
      "day_out = '2'       # 0-7\n",
      "temp = 'MaxT'  # MaxT or MinT\n",
      "temperature = []; lat = []; lon = []\n",
      "for key in keys:\n",
      "    temperature.append(float(forecast_dict[key][day_out][temp]))\n",
      "    lat.append(float(key[0]))\n",
      "    lon.append(float(key[1]))\n",
      "# Now that those are collected, let's see what the Temperature as a function of Latitude is:\n",
      "plt.scatter(temperature,lat)\n"
     ],
     "language": "python",
     "metadata": {},
     "outputs": []
    },
    {
     "cell_type": "code",
     "collapsed": false,
     "input": [
      "# Let's try again, but this time, color according to Longitude\n",
      "# Color map stuff can be found here: http://matplotlib.org/users/colormaps.html\n",
      "# Add a colorbar, we have to add it as another figure.  So, we use the 'subplot' method.\n",
      "color_by = lon\n",
      "label = 'Long'\n",
      "max_color_by = max(color_by)\n",
      "min_color_by = min(color_by)\n",
      "norm_color_by = [x / max_color_by for x in color_by]\n",
      "\n",
      "fig, ax = plt.subplots()\n",
      "s = ax.scatter(temperature, lat, \n",
      "               c=color_by, \n",
      "               s=200, \n",
      "               marker='o',\n",
      "              # alpha = 0.2,\n",
      "               cmap = plt.cm.coolwarm,\n",
      "               vmin = min_color_by, \n",
      "               vmax = max_color_by)\n",
      "\n",
      "cbar = plt.colorbar(mappable = s, ax = ax)\n",
      "cbar.set_label(label)\n",
      "plt.xlabel('{0} in Deg F, forecasted {1} days out'.format(temp,day_out))\n",
      "plt.ylabel('Latitude, Deg N')\n",
      "plt.title('{0} forecasted {1} Days out from target day April 22, 2014'.format(temp,day_out))\n",
      "plt.show()"
     ],
     "language": "python",
     "metadata": {},
     "outputs": []
    },
    {
     "cell_type": "code",
     "collapsed": true,
     "input": [
      "# Goin' a little CRAZY there -- let's take a step back and work on a histogram.\n",
      "# Now let's try a histogram...\n",
      "# What we are going to plot is the distribution of temperatures.\n",
      "# Let's start with a very simple histogram of the temperature we left off with -- \n",
      "plt.hist(temperature)\n",
      "plt.ylabel ('Counts')\n",
      "plt.xlabel(temp)\n",
      "plt.show()"
     ],
     "language": "python",
     "metadata": {},
     "outputs": []
    },
    {
     "cell_type": "code",
     "collapsed": false,
     "input": [
      "# Now let's try again and jazz it up..\n",
      "# Let's increase the number of bins (bin size calculated by the difference \n",
      "# Min and Max values, divided by the number of bins) \n",
      "plt.hist(temperature, 100, color='green', alpha=0.2)\n",
      "plt.ylabel ('Counts')\n",
      "plt.xlabel(temp)\n",
      "plt.title('Histogram of {0}'.format(temp))\n",
      "plt.show()"
     ],
     "language": "python",
     "metadata": {},
     "outputs": []
    },
    {
     "cell_type": "code",
     "collapsed": false,
     "input": [
      "# Python histograms give you some information about them.  Let's explore."
     ],
     "language": "python",
     "metadata": {},
     "outputs": []
    },
    {
     "cell_type": "code",
     "collapsed": false,
     "input": [
      "n, bins, patches = plt.hist(temperature, 10, color='green', alpha=0.2)"
     ],
     "language": "python",
     "metadata": {},
     "outputs": []
    },
    {
     "cell_type": "code",
     "collapsed": false,
     "input": [
      "# n are the number of counts\n",
      "n"
     ],
     "language": "python",
     "metadata": {},
     "outputs": []
    },
    {
     "cell_type": "code",
     "collapsed": false,
     "input": [
      "# bins are the x-centered location of the bins\n",
      "bins"
     ],
     "language": "python",
     "metadata": {},
     "outputs": []
    },
    {
     "cell_type": "code",
     "collapsed": false,
     "input": [
      "# And patches are a list of the matplotlib rectangle shapes that make \n",
      "# the bins.\n",
      "patches"
     ],
     "language": "python",
     "metadata": {},
     "outputs": []
    },
    {
     "cell_type": "code",
     "collapsed": false,
     "input": [
      "patches[0]"
     ],
     "language": "python",
     "metadata": {},
     "outputs": []
    },
    {
     "cell_type": "code",
     "collapsed": false,
     "input": [
      "# Now that we have the basics down, let's start with the mapping!\n",
      "# We will be using Matplotlib's basemap:  http://matplotlib.org/basemap/"
     ],
     "language": "python",
     "metadata": {},
     "outputs": []
    },
    {
     "cell_type": "code",
     "collapsed": false,
     "input": [
      "from mpl_toolkits.basemap import Basemap"
     ],
     "language": "python",
     "metadata": {},
     "outputs": []
    },
    {
     "cell_type": "code",
     "collapsed": false,
     "input": [
      "# Let's make a simple Mercator Projection Map\n",
      "# This is straight from the Basemap example section -- http://matplotlib.org/basemap/users/merc.html\n",
      "\n",
      "# llcrnrlat,llcrnrlon,urcrnrlat,urcrnrlon\n",
      "# are the lat/lon values of the lower left and upper right corners\n",
      "# of the map.\n",
      "# lat_ts is the latitude of true scale.\n",
      "# resolution = 'c' means use crude resolution coastlines.\n",
      "m = Basemap(projection='merc',llcrnrlat=-80,urcrnrlat=80,\\\n",
      "            llcrnrlon=-180,urcrnrlon=180,lat_ts=20,resolution='c')\n",
      "m.drawcoastlines()\n",
      "m.fillcontinents(color='coral',lake_color='aqua')\n",
      "# draw parallels and meridians.\n",
      "m.drawparallels(np.arange(-90.,91.,30.))\n",
      "m.drawmeridians(np.arange(-180.,181.,60.))\n",
      "m.drawmapboundary(fill_color='aqua')\n",
      "plt.title(\"Mercator Projection\")\n",
      "plt.show()"
     ],
     "language": "python",
     "metadata": {},
     "outputs": []
    },
    {
     "cell_type": "code",
     "collapsed": false,
     "input": [
      "# Now let's change it up some...\n",
      "# Let's only look at North America\n",
      "m = Basemap(projection='merc',llcrnrlat=20,urcrnrlat=50,\\\n",
      "            llcrnrlon=-130,urcrnrlon=-60,lat_ts=20,resolution='i')\n",
      "m.drawcoastlines()\n",
      "m.fillcontinents(color='tan',lake_color='white')\n",
      "# draw parallels and meridians.\n",
      "parallels = np.arange(-90.,91.,5.)\n",
      "m.drawparallels(parallels)\n",
      "# Label the meridians and parallels\n",
      "m.drawparallels(parallels,labels=[False,True,True,False])\n",
      "# Draw Meridians and Labels\n",
      "meridians = np.arange(-180.,181.,10.)\n",
      "m.drawmeridians(meridians)\n",
      "m.drawmeridians(meridians,labels=[True,False,False,True])\n",
      "m.drawmapboundary(fill_color='white')\n",
      "plt.title(\"Mercator Projection\")\n",
      "plt.show()\n"
     ],
     "language": "python",
     "metadata": {},
     "outputs": []
    },
    {
     "cell_type": "code",
     "collapsed": false,
     "input": [
      "# Now let's try adding our data!  Let's just plot their locations first..."
     ],
     "language": "python",
     "metadata": {},
     "outputs": []
    },
    {
     "cell_type": "code",
     "collapsed": false,
     "input": [
      "m = Basemap(projection='merc',llcrnrlat=20,urcrnrlat=50,\\\n",
      "            llcrnrlon=-130,urcrnrlon=-60,lat_ts=20,resolution='i')\n",
      "m.drawcoastlines()\n",
      "m.drawcountries()\n",
      "m.drawstates()\n",
      "#m.fillcontinents(color='tan',lake_color='white')\n",
      "# draw parallels and meridians.\n",
      "parallels = np.arange(-90.,91.,5.)\n",
      "# Label the meridians and parallels\n",
      "m.drawparallels(parallels,labels=[False,True,True,False])\n",
      "# Draw Meridians and Labels\n",
      "meridians = np.arange(-180.,181.,10.)\n",
      "m.drawmeridians(meridians,labels=[True,False,False,True])\n",
      "#m.drawmapboundary(fill_color='white')\n",
      "plt.title(\"Forecast {0} days out\".format(day_out))\n",
      "x,y = m(lon, lat)\n",
      "#m.plot(x,y, 'bo', markersize=5)\n",
      "# Now, let's color the markers! \n",
      "jet = plt.cm.get_cmap('jet')\n",
      "sc = plt.scatter(x,y, c=temperature, vmin=0, vmax =35, cmap=jet, s=20, edgecolors='none')\n",
      "plt.colorbar(sc, shrink = 1)\n",
      "plt.show()"
     ],
     "language": "python",
     "metadata": {},
     "outputs": []
    },
    {
     "cell_type": "code",
     "collapsed": false,
     "input": [
      "temperature"
     ],
     "language": "python",
     "metadata": {},
     "outputs": []
    },
    {
     "cell_type": "code",
     "collapsed": false,
     "input": [
      "lat[0]"
     ],
     "language": "python",
     "metadata": {},
     "outputs": []
    }
   ],
   "metadata": {}
  }
 ]
}