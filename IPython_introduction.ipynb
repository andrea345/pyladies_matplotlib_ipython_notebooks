{
 "metadata": {
  "name": "",
  "signature": "sha256:55662c1e86d8c12ccb49010eb15494e3f2c5dfb72e701392f3010becd6e9c1ed"
 },
 "nbformat": 3,
 "nbformat_minor": 0,
 "worksheets": [
  {
   "cells": [
    {
     "cell_type": "markdown",
     "metadata": {},
     "source": [
      "# Welcome to the PyLadies Workshop on IPython Notebook and Matplotlib!\n",
      "## Presenters:  Mark Blunk and Gina Schmalzle\n",
      "\n",
      "This is Part I: a brief introduction to IPython. \n",
      "\n",
      "[IPython](http://ipython.org/ \"Title\") was developed by Fernando Perez (started in 2001) to build several tools to make interactive computing in Python easy to use, and share. The _I_ is for _inactive_!"
     ]
    },
    {
     "cell_type": "markdown",
     "metadata": {},
     "source": [
      "####IPython has some different components that we want to discuss\n",
      "\n",
      "* Terminal\n",
      "* Notebook\n",
      "\n",
      "\n",
      "Unless stated otherwise, every command can be executed with equal results in the terminal or notebook. There are some differences, which we will cover below."
     ]
    },
    {
     "cell_type": "markdown",
     "metadata": {},
     "source": [
      "##Terminal\n",
      "\n",
      "For this part of the talk, I want to run all of the code blocks in the terminal. This will involve a lot of cutting and pasting. To do this effectively, we'll use the %paste magic function. (we'll revisit the concept of magic functions below.)\n",
      "\n",
      "Once you have IPython installed, you can start the IPython REPL by typing __IPython__ in the terminal. This REPL acts like the regular Python REPL (in fact any command from the vanilla Python REPL will work inside IPython), but is awesomer.\n",
      "\n",
      "The most important feature, in my opinion, is **TAB** completion. After using IPython for awhile, I find that I quickly get frustrated when forced to use a regular Python REPL. If you only take **ONE** thing from this talk, this is it."
     ]
    },
    {
     "cell_type": "code",
     "collapsed": false,
     "input": [
      "import collections"
     ],
     "language": "python",
     "metadata": {},
     "outputs": [],
     "prompt_number": 1
    },
    {
     "cell_type": "code",
     "collapsed": false,
     "input": [
      "###now type collections. and press TAB to see the possible completions\n",
      "#collections.TAB"
     ],
     "language": "python",
     "metadata": {},
     "outputs": [],
     "prompt_number": 2
    },
    {
     "cell_type": "code",
     "collapsed": false,
     "input": [
      "###to see all possible modules you could install, type import and press TAB.\n",
      "#import TAB"
     ],
     "language": "python",
     "metadata": {},
     "outputs": [],
     "prompt_number": 3
    },
    {
     "cell_type": "markdown",
     "metadata": {},
     "source": [
      "####Getting Help####\n",
      "To get info about an existing object/module type the name followed by a ? or ?? to get some (hopefully useful) information."
     ]
    },
    {
     "cell_type": "code",
     "collapsed": false,
     "input": [
      "p = 4\n",
      "p"
     ],
     "language": "python",
     "metadata": {},
     "outputs": [
      {
       "metadata": {},
       "output_type": "pyout",
       "prompt_number": 4,
       "text": [
        "4"
       ]
      }
     ],
     "prompt_number": 4
    },
    {
     "cell_type": "code",
     "collapsed": false,
     "input": [
      "p?"
     ],
     "language": "python",
     "metadata": {},
     "outputs": [],
     "prompt_number": 5
    },
    {
     "cell_type": "code",
     "collapsed": false,
     "input": [
      "collections?"
     ],
     "language": "python",
     "metadata": {},
     "outputs": [],
     "prompt_number": 6
    },
    {
     "cell_type": "markdown",
     "metadata": {},
     "source": [
      "IPython defines two expanding lists, In and Out. They are there to help you recreate what you have defined so far. To get a reproduction of everything you have defined so far, use _hist_."
     ]
    },
    {
     "cell_type": "code",
     "collapsed": false,
     "input": [
      "In[5]"
     ],
     "language": "python",
     "metadata": {},
     "outputs": [
      {
       "metadata": {},
       "output_type": "pyout",
       "prompt_number": 7,
       "text": [
        "u\"get_ipython().magic(u'pinfo p')\""
       ]
      }
     ],
     "prompt_number": 7
    },
    {
     "cell_type": "code",
     "collapsed": false,
     "input": [
      "Out[4]"
     ],
     "language": "python",
     "metadata": {},
     "outputs": [
      {
       "metadata": {},
       "output_type": "pyout",
       "prompt_number": 8,
       "text": [
        "4"
       ]
      }
     ],
     "prompt_number": 8
    },
    {
     "cell_type": "code",
     "collapsed": false,
     "input": [
      "hist"
     ],
     "language": "python",
     "metadata": {},
     "outputs": [
      {
       "output_type": "stream",
       "stream": "stdout",
       "text": [
        "import collections\n",
        "###now type collections. and press TAB to see the possible completions\n",
        "#collections.TAB\n",
        "###to see all possible modules you could install, type import and press TAB.\n",
        "#import TAB\n",
        "p = 4\n",
        "p\n",
        "p?\n",
        "collections?\n",
        "In[5]\n",
        "Out[4]\n",
        "hist\n"
       ]
      }
     ],
     "prompt_number": 9
    },
    {
     "cell_type": "code",
     "collapsed": false,
     "input": [
      "#%quickref will pull up a handy reference guide for some of the IPython tools\n",
      "%quickref"
     ],
     "language": "python",
     "metadata": {},
     "outputs": [],
     "prompt_number": 10
    },
    {
     "cell_type": "markdown",
     "metadata": {},
     "source": [
      "The function quickref is an example of a _magic function_. The convention in IPython is to have to magic function start with an ambersand.  The magic functions fall into two groups, _line_ magic and _cell_ magic. The line magic function take only single line input, and the cell magic functions take multi-line input (we'll see examples below)."
     ]
    },
    {
     "cell_type": "code",
     "collapsed": false,
     "input": [
      "#pulls up a helpful explanation on how to access the magic functions.\n",
      "%magic"
     ],
     "language": "python",
     "metadata": {},
     "outputs": [],
     "prompt_number": 11
    },
    {
     "cell_type": "code",
     "collapsed": false,
     "input": [
      "#To get a list of all magic functions, use the magic function %lsmagic\n",
      "%lsmagic"
     ],
     "language": "python",
     "metadata": {},
     "outputs": [
      {
       "json": [
        "{\"cell\": {\"prun\": \"ExecutionMagics\", \"file\": \"Other\", \"!\": \"OSMagics\", \"capture\": \"ExecutionMagics\", \"timeit\": \"ExecutionMagics\", \"script\": \"ScriptMagics\", \"pypy\": \"Other\", \"system\": \"OSMagics\", \"perl\": \"Other\", \"HTML\": \"Other\", \"bash\": \"Other\", \"python\": \"Other\", \"SVG\": \"Other\", \"javascript\": \"DisplayMagics\", \"writefile\": \"OSMagics\", \"ruby\": \"Other\", \"python3\": \"Other\", \"python2\": \"Other\", \"latex\": \"DisplayMagics\", \"sx\": \"OSMagics\", \"svg\": \"DisplayMagics\", \"html\": \"DisplayMagics\", \"sh\": \"Other\", \"time\": \"ExecutionMagics\", \"debug\": \"ExecutionMagics\"}, \"line\": {\"psource\": \"NamespaceMagics\", \"logstart\": \"LoggingMagics\", \"popd\": \"OSMagics\", \"loadpy\": \"CodeMagics\", \"install_ext\": \"ExtensionMagics\", \"colors\": \"BasicMagics\", \"who_ls\": \"NamespaceMagics\", \"lf\": \"Other\", \"install_profiles\": \"DeprecatedMagics\", \"ll\": \"Other\", \"pprint\": \"BasicMagics\", \"lk\": \"Other\", \"ls\": \"Other\", \"save\": \"CodeMagics\", \"tb\": \"ExecutionMagics\", \"lx\": \"Other\", \"pylab\": \"PylabMagics\", \"killbgscripts\": \"ScriptMagics\", \"quickref\": \"BasicMagics\", \"magic\": \"BasicMagics\", \"dhist\": \"OSMagics\", \"edit\": \"KernelMagics\", \"logstop\": \"LoggingMagics\", \"gui\": \"BasicMagics\", \"alias_magic\": \"BasicMagics\", \"debug\": \"ExecutionMagics\", \"page\": \"BasicMagics\", \"logstate\": \"LoggingMagics\", \"ed\": \"Other\", \"pushd\": \"OSMagics\", \"timeit\": \"ExecutionMagics\", \"rehashx\": \"OSMagics\", \"hist\": \"Other\", \"qtconsole\": \"KernelMagics\", \"rm\": \"Other\", \"dirs\": \"OSMagics\", \"run\": \"ExecutionMagics\", \"reset_selective\": \"NamespaceMagics\", \"rep\": \"Other\", \"pinfo2\": \"NamespaceMagics\", \"matplotlib\": \"PylabMagics\", \"unload_ext\": \"ExtensionMagics\", \"doctest_mode\": \"KernelMagics\", \"logoff\": \"LoggingMagics\", \"reload_ext\": \"ExtensionMagics\", \"pdb\": \"ExecutionMagics\", \"load\": \"CodeMagics\", \"lsmagic\": \"BasicMagics\", \"autosave\": \"KernelMagics\", \"cd\": \"OSMagics\", \"pastebin\": \"CodeMagics\", \"prun\": \"ExecutionMagics\", \"cp\": \"Other\", \"autocall\": \"AutoMagics\", \"bookmark\": \"OSMagics\", \"connect_info\": \"KernelMagics\", \"mkdir\": \"Other\", \"system\": \"OSMagics\", \"whos\": \"NamespaceMagics\", \"rmdir\": \"Other\", \"automagic\": \"AutoMagics\", \"store\": \"StoreMagics\", \"more\": \"KernelMagics\", \"pdef\": \"NamespaceMagics\", \"precision\": \"BasicMagics\", \"pinfo\": \"NamespaceMagics\", \"pwd\": \"OSMagics\", \"psearch\": \"NamespaceMagics\", \"reset\": \"NamespaceMagics\", \"recall\": \"HistoryMagics\", \"xdel\": \"NamespaceMagics\", \"xmode\": \"BasicMagics\", \"cat\": \"Other\", \"mv\": \"Other\", \"rerun\": \"HistoryMagics\", \"logon\": \"LoggingMagics\", \"history\": \"HistoryMagics\", \"pycat\": \"OSMagics\", \"unalias\": \"OSMagics\", \"install_default_config\": \"DeprecatedMagics\", \"env\": \"OSMagics\", \"load_ext\": \"ExtensionMagics\", \"config\": \"ConfigMagics\", \"profile\": \"BasicMagics\", \"pfile\": \"NamespaceMagics\", \"less\": \"KernelMagics\", \"who\": \"NamespaceMagics\", \"notebook\": \"BasicMagics\", \"man\": \"KernelMagics\", \"sx\": \"OSMagics\", \"macro\": \"ExecutionMagics\", \"clear\": \"KernelMagics\", \"alias\": \"OSMagics\", \"time\": \"ExecutionMagics\", \"sc\": \"OSMagics\", \"ldir\": \"Other\", \"pdoc\": \"NamespaceMagics\"}}"
       ],
       "metadata": {},
       "output_type": "pyout",
       "prompt_number": 12,
       "text": [
        "Available line magics:\n",
        "%alias  %alias_magic  %autocall  %automagic  %autosave  %bookmark  %cat  %cd  %clear  %colors  %config  %connect_info  %cp  %debug  %dhist  %dirs  %doctest_mode  %ed  %edit  %env  %gui  %hist  %history  %install_default_config  %install_ext  %install_profiles  %killbgscripts  %ldir  %less  %lf  %lk  %ll  %load  %load_ext  %loadpy  %logoff  %logon  %logstart  %logstate  %logstop  %ls  %lsmagic  %lx  %macro  %magic  %man  %matplotlib  %mkdir  %more  %mv  %notebook  %page  %pastebin  %pdb  %pdef  %pdoc  %pfile  %pinfo  %pinfo2  %popd  %pprint  %precision  %profile  %prun  %psearch  %psource  %pushd  %pwd  %pycat  %pylab  %qtconsole  %quickref  %recall  %rehashx  %reload_ext  %rep  %rerun  %reset  %reset_selective  %rm  %rmdir  %run  %save  %sc  %store  %sx  %system  %tb  %time  %timeit  %unalias  %unload_ext  %who  %who_ls  %whos  %xdel  %xmode\n",
        "\n",
        "Available cell magics:\n",
        "%%!  %%HTML  %%SVG  %%bash  %%capture  %%debug  %%file  %%html  %%javascript  %%latex  %%perl  %%prun  %%pypy  %%python  %%python2  %%python3  %%ruby  %%script  %%sh  %%svg  %%sx  %%system  %%time  %%timeit  %%writefile\n",
        "\n",
        "Automagic is ON, % prefix IS NOT needed for line magics."
       ]
      }
     ],
     "prompt_number": 12
    },
    {
     "cell_type": "markdown",
     "metadata": {},
     "source": [
      "Note that amount the line magic functions there are several shell functions"
     ]
    },
    {
     "cell_type": "code",
     "collapsed": false,
     "input": [
      "ls"
     ],
     "language": "python",
     "metadata": {},
     "outputs": [
      {
       "output_type": "stream",
       "stream": "stdout",
       "text": [
        "IPython_introduction.ipynb  README.md                   requirements.txt\r\n",
        "Matplotlib_tutorial.ipynb   \u001b[1m\u001b[36menv\u001b[m\u001b[m/                        target_day_20140422.dat\r\n"
       ]
      }
     ],
     "prompt_number": 13
    },
    {
     "cell_type": "code",
     "collapsed": false,
     "input": [
      "pwd"
     ],
     "language": "python",
     "metadata": {},
     "outputs": [
      {
       "metadata": {},
       "output_type": "pyout",
       "prompt_number": 14,
       "text": [
        "u'/Users/x289/src/pyladies_matplotlib_ipython_notebooks'"
       ]
      }
     ],
     "prompt_number": 14
    },
    {
     "cell_type": "markdown",
     "metadata": {},
     "source": [
      "Not all shell functions are defined. we'll see later how to execute any bash command from inside IPython. Let's look at some of the other magic functions"
     ]
    },
    {
     "cell_type": "markdown",
     "metadata": {},
     "source": [
      "#####Some Nice Magic Functions#####\n",
      "%edit opens up a temporarily python file, which you can type it. When you are done editing, this temporarily file will be executed. Finally, the file, as a str,\n",
      "is sent to Out. I find this can be handy when you are in the REPL and you are editing something that is multi-line, like a function."
     ]
    },
    {
     "cell_type": "code",
     "collapsed": false,
     "input": [
      "%edit"
     ],
     "language": "python",
     "metadata": {},
     "outputs": [
      {
       "output_type": "stream",
       "stream": "stdout",
       "text": [
        "IPython will make a temporary file named: /var/folders/wd/1vyxljdn437dq81fjrvhzlcdjm7gvp/T/ipython_edit_oKYxbr/ipython_edit_THYIA2.py\n"
       ]
      }
     ],
     "prompt_number": 15
    },
    {
     "cell_type": "code",
     "collapsed": false,
     "input": [
      "#TERMINAL\n",
      "def print_num(x):\n",
      "    print x"
     ],
     "language": "python",
     "metadata": {},
     "outputs": [],
     "prompt_number": 16
    },
    {
     "cell_type": "code",
     "collapsed": false,
     "input": [
      "#TERMINAL\n",
      "print_num(10)"
     ],
     "language": "python",
     "metadata": {},
     "outputs": [
      {
       "output_type": "stream",
       "stream": "stdout",
       "text": [
        "10\n"
       ]
      }
     ],
     "prompt_number": 17
    },
    {
     "cell_type": "markdown",
     "metadata": {},
     "source": [
      "In the regular Python REPL, you can type _dir()_ to get a list of the variables currently defined. You can also do this in IPython, but you will get a lot of extra stuff floating around that you don't want to know about. Instead, use _whos_"
     ]
    },
    {
     "cell_type": "code",
     "collapsed": false,
     "input": [
      "dir()"
     ],
     "language": "python",
     "metadata": {},
     "outputs": [
      {
       "metadata": {},
       "output_type": "pyout",
       "prompt_number": 18,
       "text": [
        "['In',\n",
        " 'Out',\n",
        " '_',\n",
        " '_12',\n",
        " '_14',\n",
        " '_4',\n",
        " '_7',\n",
        " '_8',\n",
        " '__',\n",
        " '___',\n",
        " '__builtin__',\n",
        " '__builtins__',\n",
        " '__doc__',\n",
        " '__name__',\n",
        " '__package__',\n",
        " '_dh',\n",
        " '_exit_code',\n",
        " '_i',\n",
        " '_i1',\n",
        " '_i10',\n",
        " '_i11',\n",
        " '_i12',\n",
        " '_i13',\n",
        " '_i14',\n",
        " '_i15',\n",
        " '_i16',\n",
        " '_i17',\n",
        " '_i18',\n",
        " '_i2',\n",
        " '_i3',\n",
        " '_i4',\n",
        " '_i5',\n",
        " '_i6',\n",
        " '_i7',\n",
        " '_i8',\n",
        " '_i9',\n",
        " '_ih',\n",
        " '_ii',\n",
        " '_iii',\n",
        " '_oh',\n",
        " '_sh',\n",
        " 'collections',\n",
        " 'exit',\n",
        " 'get_ipython',\n",
        " 'p',\n",
        " 'print_num',\n",
        " 'quit']"
       ]
      }
     ],
     "prompt_number": 18
    },
    {
     "cell_type": "code",
     "collapsed": false,
     "input": [
      "whos"
     ],
     "language": "python",
     "metadata": {},
     "outputs": [
      {
       "output_type": "stream",
       "stream": "stdout",
       "text": [
        "Variable      Type        Data/Info\n",
        "-----------------------------------\n",
        "collections   module      <module 'collections' fro<...>thon2.7/collections.pyc'>\n",
        "p             int         4\n",
        "print_num     function    <function print_num at 0x109b57cf8>\n"
       ]
      }
     ],
     "prompt_number": 19
    },
    {
     "cell_type": "code",
     "collapsed": false,
     "input": [
      "#Toggle the debugger to run if the executed script makes an error\n",
      "%pdb on\n",
      "nums = range(5)\n",
      "b = 4\n",
      "for num in nums:\n",
      "    print b / (float(num - 4))"
     ],
     "language": "python",
     "metadata": {},
     "outputs": [
      {
       "output_type": "stream",
       "stream": "stdout",
       "text": [
        "Automatic pdb calling has been turned ON\n",
        "-1.0\n",
        "-1.33333333333\n",
        "-2.0\n",
        "-4.0\n"
       ]
      },
      {
       "ename": "ZeroDivisionError",
       "evalue": "float division by zero",
       "output_type": "pyerr",
       "traceback": [
        "\u001b[0;31m---------------------------------------------------------------------------\u001b[0m\n\u001b[0;31mZeroDivisionError\u001b[0m                         Traceback (most recent call last)",
        "\u001b[0;32m<ipython-input-20-fe3d64213ed7>\u001b[0m in \u001b[0;36m<module>\u001b[0;34m()\u001b[0m\n\u001b[1;32m      4\u001b[0m \u001b[0mb\u001b[0m \u001b[0;34m=\u001b[0m \u001b[0;36m4\u001b[0m\u001b[0;34m\u001b[0m\u001b[0m\n\u001b[1;32m      5\u001b[0m \u001b[0;32mfor\u001b[0m \u001b[0mnum\u001b[0m \u001b[0;32min\u001b[0m \u001b[0mnums\u001b[0m\u001b[0;34m:\u001b[0m\u001b[0;34m\u001b[0m\u001b[0m\n\u001b[0;32m----> 6\u001b[0;31m     \u001b[0;32mprint\u001b[0m \u001b[0mb\u001b[0m \u001b[0;34m/\u001b[0m \u001b[0;34m(\u001b[0m\u001b[0mfloat\u001b[0m\u001b[0;34m(\u001b[0m\u001b[0mnum\u001b[0m \u001b[0;34m-\u001b[0m \u001b[0;36m4\u001b[0m\u001b[0;34m)\u001b[0m\u001b[0;34m)\u001b[0m\u001b[0;34m\u001b[0m\u001b[0m\n\u001b[0m",
        "\u001b[0;31mZeroDivisionError\u001b[0m: float division by zero"
       ]
      },
      {
       "output_type": "stream",
       "stream": "stdout",
       "text": [
        "> \u001b[0;32m<ipython-input-20-fe3d64213ed7>\u001b[0m(6)\u001b[0;36m<module>\u001b[0;34m()\u001b[0m\n",
        "\u001b[0;32m      4 \u001b[0;31m\u001b[0mb\u001b[0m \u001b[0;34m=\u001b[0m \u001b[0;36m4\u001b[0m\u001b[0;34m\u001b[0m\u001b[0m\n",
        "\u001b[0m\u001b[0;32m      5 \u001b[0;31m\u001b[0;32mfor\u001b[0m \u001b[0mnum\u001b[0m \u001b[0;32min\u001b[0m \u001b[0mnums\u001b[0m\u001b[0;34m:\u001b[0m\u001b[0;34m\u001b[0m\u001b[0m\n",
        "\u001b[0m\u001b[0;32m----> 6 \u001b[0;31m    \u001b[0;32mprint\u001b[0m \u001b[0mb\u001b[0m \u001b[0;34m/\u001b[0m \u001b[0;34m(\u001b[0m\u001b[0mfloat\u001b[0m\u001b[0;34m(\u001b[0m\u001b[0mnum\u001b[0m \u001b[0;34m-\u001b[0m \u001b[0;36m4\u001b[0m\u001b[0;34m)\u001b[0m\u001b[0;34m)\u001b[0m\u001b[0;34m\u001b[0m\u001b[0m\n",
        "\u001b[0m\n"
       ]
      },
      {
       "name": "stdout",
       "output_type": "stream",
       "stream": "stdout",
       "text": [
        "ipdb> q\n"
       ]
      }
     ],
     "prompt_number": 20
    },
    {
     "cell_type": "markdown",
     "metadata": {},
     "source": [
      "In the regular Python REPL, you can type _dir()_ to get a list of the variables currently defined. You can also do this in IPython, but you will get a lot of extra stuff floating around that you don't want to know about. Instead, use _whos_"
     ]
    },
    {
     "cell_type": "markdown",
     "metadata": {},
     "source": [
      "Use timeit to compute how long it takes to execute the command"
     ]
    },
    {
     "cell_type": "code",
     "collapsed": false,
     "input": [
      "%%timeit\n",
      "xs=range(100000)\n",
      "y = 0\n",
      "for x in xs:\n",
      "    y+=x"
     ],
     "language": "python",
     "metadata": {},
     "outputs": []
    },
    {
     "cell_type": "code",
     "collapsed": false,
     "input": [
      "%timeit sum(x for x in xrange(100000))"
     ],
     "language": "python",
     "metadata": {},
     "outputs": []
    },
    {
     "cell_type": "markdown",
     "metadata": {},
     "source": [
      "The magic function _load_ext_ is used for loading external IPython extensions. See http://ipython.org/ipython-doc/2/config/extensions/index.html for more details."
     ]
    },
    {
     "cell_type": "markdown",
     "metadata": {},
     "source": [
      "In this example, we'll use Cython. Oh wait, I forgot to install Cython. No worries, just use _!_ to call pip"
     ]
    },
    {
     "cell_type": "code",
     "collapsed": false,
     "input": [
      "!pip install Cython"
     ],
     "language": "python",
     "metadata": {},
     "outputs": []
    },
    {
     "cell_type": "markdown",
     "metadata": {},
     "source": [
      "Now, on to the example"
     ]
    },
    {
     "cell_type": "code",
     "collapsed": false,
     "input": [
      "%load_ext cythonmagic"
     ],
     "language": "python",
     "metadata": {},
     "outputs": []
    },
    {
     "cell_type": "code",
     "collapsed": false,
     "input": [
      "%%cython\n",
      "def fibonacci_cythonized(int n):\n",
      "    if n == 0: return 0\n",
      "    elif n == 1: return 1\n",
      "    else: return fibonacci_cythonized(n-1) + fibonacci_cythonized(n-2)"
     ],
     "language": "python",
     "metadata": {},
     "outputs": []
    },
    {
     "cell_type": "code",
     "collapsed": false,
     "input": [
      "%timeit fibonacci_cythonized(10)"
     ],
     "language": "python",
     "metadata": {},
     "outputs": []
    },
    {
     "cell_type": "code",
     "collapsed": false,
     "input": [
      "#compare with uncython version\n",
      "def fibonacci(n):\n",
      "    if n == 0: \n",
      "        return 0\n",
      "    elif n == 1:\n",
      "        return 1\n",
      "    else: \n",
      "        return fibonacci(n-1) + fibonacci(n-2)"
     ],
     "language": "python",
     "metadata": {},
     "outputs": []
    },
    {
     "cell_type": "code",
     "collapsed": false,
     "input": [
      "%timeit fibonacci(10)"
     ],
     "language": "python",
     "metadata": {},
     "outputs": []
    },
    {
     "cell_type": "markdown",
     "metadata": {},
     "source": [
      "There are plenty of other nice magic functions that are extremely helpful. One worth looking into is %lprun, which is used to determine bottlenecks in your code."
     ]
    },
    {
     "cell_type": "heading",
     "level": 1,
     "metadata": {},
     "source": [
      "Notebook"
     ]
    },
    {
     "cell_type": "markdown",
     "metadata": {},
     "source": [
      "The IPython Notebook generates a webpage with a series of cells where you can insert code. This can be handy for making a document like this, where one can present the code (and output) in a linear fashion. "
     ]
    },
    {
     "cell_type": "markdown",
     "metadata": {},
     "source": [
      "To execute a code block in the notebook, type 'Shirt-Enter'. Other similar commands:    \n",
      "- `Alt-Enter` This creates a new cell.\n",
      "- `Control-Enter` This executes the cell and keeps the cursor in the same cell.\n",
      "\n",
      "Look above Under _Help>Keyboard Shortcuts_ for other useful commands."
     ]
    },
    {
     "cell_type": "markdown",
     "metadata": {},
     "source": [
      "Let's quickly revisit _TAB_ completion and help"
     ]
    },
    {
     "cell_type": "code",
     "collapsed": false,
     "input": [
      "#PRESS TAB after the dot\n",
      "#import collections.\n"
     ],
     "language": "python",
     "metadata": {},
     "outputs": []
    },
    {
     "cell_type": "code",
     "collapsed": false,
     "input": [
      "import matplotlib.pyplot as plt"
     ],
     "language": "python",
     "metadata": {},
     "outputs": []
    },
    {
     "cell_type": "code",
     "collapsed": false,
     "input": [
      "#type left parens, and wait...\n",
      "plt.plot"
     ],
     "language": "python",
     "metadata": {},
     "outputs": []
    },
    {
     "cell_type": "heading",
     "level": 2,
     "metadata": {},
     "source": [
      "return to the cell magic functions."
     ]
    },
    {
     "cell_type": "code",
     "collapsed": false,
     "input": [
      "Run bash scripts"
     ],
     "language": "python",
     "metadata": {},
     "outputs": []
    },
    {
     "cell_type": "code",
     "collapsed": false,
     "input": [
      "%%bash\n",
      "echo $USER"
     ],
     "language": "python",
     "metadata": {},
     "outputs": []
    },
    {
     "cell_type": "markdown",
     "metadata": {},
     "source": [
      "You can also use cell magic to write code in javascript, python3, pypy, perl, and many more!"
     ]
    },
    {
     "cell_type": "markdown",
     "metadata": {},
     "source": [
      "The notebook can be useful for displaying pictures, either ones you have made, say in matplotlib, or from local pictures, or from the internet."
     ]
    },
    {
     "cell_type": "markdown",
     "metadata": {},
     "source": [
      "Here's a brief example of interactive widgets in the Notebook. For more info, see\n",
      "http://nbviewer.ipython.org/github/dsoto/ipython/blob/master/examples/Interactive%20Widgets/Using%20Interact.ipynb\n",
      "\n",
      "To see a neat example, check out http://jakevdp.github.io/downloads/notebooks/HipsterEffect.ipynb"
     ]
    },
    {
     "cell_type": "code",
     "collapsed": false,
     "input": [
      "%matplotlib inline\n",
      "from IPython.html.widgets import interact\n",
      "import matplotlib.pyplot as plt\n",
      "import numpy as np\n",
      "import random\n",
      "xs=np.arange(0, 2, .1)\n",
      "coeffs = [-1, 2, -4, 5, -3]\n",
      "def plot_poly(degree=4):\n",
      "    ys = [sum(coeff*(x**i) for i, coeff in enumerate(coeffs) if i <= degree) \n",
      "          for x in xs]\n",
      "    plt.plot(xs, ys)\n",
      "    plt"
     ],
     "language": "python",
     "metadata": {},
     "outputs": []
    },
    {
     "cell_type": "code",
     "collapsed": false,
     "input": [
      "interact(plot_poly, degree=[0,4])"
     ],
     "language": "python",
     "metadata": {},
     "outputs": []
    },
    {
     "cell_type": "markdown",
     "metadata": {},
     "source": [
      "Ipython has a number of ways of displaying other information that you might want to include in your notebook. Below are some examples. For a more complete list, checkout out http://nbviewer.ipython.org/github/ipython/ipython/blob/1.x/examples/notebooks/Part%205%20-%20Rich%20Display%20System.ipynb"
     ]
    },
    {
     "cell_type": "code",
     "collapsed": false,
     "input": [
      "#Here is example of importing an HMTL Page. Also, this website is great!\n",
      "from IPython.display import HTML\n",
      "HTML('<iframe src=http://nbviewer.ipython.org/ width={0} height={1}></iframe>'.format(1000, 700))"
     ],
     "language": "python",
     "metadata": {},
     "outputs": []
    },
    {
     "cell_type": "code",
     "collapsed": false,
     "input": [],
     "language": "python",
     "metadata": {},
     "outputs": []
    },
    {
     "cell_type": "code",
     "collapsed": false,
     "input": [],
     "language": "python",
     "metadata": {},
     "outputs": []
    },
    {
     "cell_type": "code",
     "collapsed": false,
     "input": [
      "##TODO: Fix up this latex or replace it with something else. Maybe this doesnt work if Latex is not installed?\n",
      "from IPython.display import Latex\n",
      "Latex(r\"\"\"Let $K$ be a compact operator on a Banach Space $V$ defined over $\\mathbb{C}$. For any $\\lambda \\in \\mathbb{C}$, \n",
      "either $\\lambda$ is an eigenvalue of $K$, or it lies in the domain of the Resolvant \n",
      "\\[R(\\lambda;K) := (K - \\lambda I)^{-1}.\\]\"\"\")"
     ],
     "language": "python",
     "metadata": {},
     "outputs": []
    },
    {
     "cell_type": "code",
     "collapsed": false,
     "input": [
      "#OR:\n",
      "Latex(r\"\"\"If $A \\in M_{n\\times n}(\\mathbb{C})$, then\n",
      "\\[\\operatorname{Ker}(A) = \\operatorname{Im}(A^*)^\\perp.\\]\"\"\")"
     ],
     "language": "python",
     "metadata": {},
     "outputs": []
    },
    {
     "cell_type": "markdown",
     "metadata": {},
     "source": [
      "It is possible to customize the look of your IPython notebook, basically by fiddling with the css file found in _$HOME/.ipython/PROFILENAME/static/custom/custom.css_. \n",
      "\n",
      "I made my current styles by following along with this website:\n",
      "http://www.damian.oquanta.info/posts/48-themes-for-your-ipython-notebook.html \n"
     ]
    },
    {
     "cell_type": "markdown",
     "metadata": {},
     "source": [
      "There is another feature of IPython that I don't know much about, but would like to learn more. This is the [Parallel](http://ipython.org/ipython-doc/stable/parallel/index.html \"Title\") package. It can be used for parallel computations in Python. Here is the link to a [tutorial](https://github.com/ogrisel/parallel_ml_tutorial/blob/master/README.md \"Title\") on parallel computations (check out Chapter 6!)"
     ]
    },
    {
     "cell_type": "markdown",
     "metadata": {},
     "source": [
      "Finally, when you are done, use _ipython nbconvert THISNOTEBOOK.pynb --to python_ to turn your notebook into a script:"
     ]
    },
    {
     "cell_type": "code",
     "collapsed": false,
     "input": [],
     "language": "python",
     "metadata": {},
     "outputs": []
    },
    {
     "cell_type": "code",
     "collapsed": false,
     "input": [],
     "language": "python",
     "metadata": {},
     "outputs": []
    }
   ],
   "metadata": {}
  }
 ]
}